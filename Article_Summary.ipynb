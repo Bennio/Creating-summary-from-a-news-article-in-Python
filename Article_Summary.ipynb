{
 "cells": [
  {
   "cell_type": "code",
   "execution_count": 9,
   "metadata": {
    "collapsed": true
   },
   "outputs": [],
   "source": [
    "import pandas as pd\n",
    "import newspaper\n",
    "from textblob import TextBlob"
   ]
  },
  {
   "cell_type": "code",
   "execution_count": 17,
   "metadata": {},
   "outputs": [
    {
     "data": {
      "text/plain": [
       "Sentence(\"But if February is any guide, the rules are out of date.\")"
      ]
     },
     "execution_count": 17,
     "metadata": {},
     "output_type": "execute_result"
    }
   ],
   "source": [
    "url ='https://www.bloomberg.com/news/articles/2018-02-22/if-you-believe-quants-nothing-happened-in-markets-this-month'\n",
    "article = newspaper.Article(url)\n",
    "article.download()\n",
    "article.parse()\n",
    "article.title\n",
    "article.nlp()\n",
    "article.summary\n",
    "blob2 = TextBlob(article.text)\n",
    "\n",
    "blob2.sentences[1]\n"
   ]
  },
  {
   "cell_type": "code",
   "execution_count": 18,
   "metadata": {},
   "outputs": [
    {
     "data": {
      "text/plain": [
       "'Momentum stocks have continued to ride high.\\nAnd value stocks have continued to get pummeled, even after some analysts predicted a sharp rotation into those shares.\\nTake value stocks, which are priced at discounts to things like earnings or assets.\\nOne-month realized volatility hit a 17-month high for the pure momentum strategy on Dec. 13, but this month it has hovered near the five-year average.\\n“The net under-exposure of active hedge funds to value should increase the upside of a value rotation.”'"
      ]
     },
     "execution_count": 18,
     "metadata": {},
     "output_type": "execute_result"
    }
   ],
   "source": [
    "article.summary"
   ]
  },
  {
   "cell_type": "code",
   "execution_count": 14,
   "metadata": {},
   "outputs": [
    {
     "data": {
      "text/html": [
       "<div>\n",
       "<style scoped>\n",
       "    .dataframe tbody tr th:only-of-type {\n",
       "        vertical-align: middle;\n",
       "    }\n",
       "\n",
       "    .dataframe tbody tr th {\n",
       "        vertical-align: top;\n",
       "    }\n",
       "\n",
       "    .dataframe thead th {\n",
       "        text-align: right;\n",
       "    }\n",
       "</style>\n",
       "<table border=\"1\" class=\"dataframe\">\n",
       "  <thead>\n",
       "    <tr style=\"text-align: right;\">\n",
       "      <th></th>\n",
       "      <th>0</th>\n",
       "    </tr>\n",
       "  </thead>\n",
       "  <tbody>\n",
       "    <tr>\n",
       "      <th>0</th>\n",
       "      <td>’playbookfactormarketgohaywire</td>\n",
       "    </tr>\n",
       "    <tr>\n",
       "      <th>1</th>\n",
       "      <td>februaryisguiderulearedate</td>\n",
       "    </tr>\n",
       "    <tr>\n",
       "      <th>2</th>\n",
       "      <td>selloffmomentumstockdefinedgaineryeartendleadw...</td>\n",
       "    </tr>\n",
       "    <tr>\n",
       "      <th>3</th>\n",
       "      <td>factorlow-volatilitydividendpayerprovidepocket...</td>\n",
       "    </tr>\n",
       "    <tr>\n",
       "      <th>4</th>\n",
       "      <td>hasnthappened</td>\n",
       "    </tr>\n",
       "    <tr>\n",
       "      <th>5</th>\n",
       "      <td>factorshavebeenboutturbulencefearspiketreasury...</td>\n",
       "    </tr>\n",
       "    <tr>\n",
       "      <th>6</th>\n",
       "      <td>momentumstockhavecontinuedride</td>\n",
       "    </tr>\n",
       "    <tr>\n",
       "      <th>7</th>\n",
       "      <td>valuestockhavecontinuedgetpummeledanalystpredi...</td>\n",
       "    </tr>\n",
       "    <tr>\n",
       "      <th>8</th>\n",
       "      <td>performancehavecaughtquantssurprisesignalsomet...</td>\n",
       "    </tr>\n",
       "    <tr>\n",
       "      <th>9</th>\n",
       "      <td>factorsbehavegrowthbeginslow</td>\n",
       "    </tr>\n",
       "    <tr>\n",
       "      <th>10</th>\n",
       "      <td>takevaluestockarepriceddiscountthingearningsasset</td>\n",
       "    </tr>\n",
       "    <tr>\n",
       "      <th>11</th>\n",
       "      <td>tendoutperforminflationriseaccordingsanfordcbe...</td>\n",
       "    </tr>\n",
       "    <tr>\n",
       "      <th>12</th>\n",
       "      <td>datahintingpricevaluehaextendedlosingstreakwee...</td>\n",
       "    </tr>\n",
       "    <tr>\n",
       "      <th>13</th>\n",
       "      <td>’stocklosesteambullmarketresearcherreason</td>\n",
       "    </tr>\n",
       "    <tr>\n",
       "      <th>14</th>\n",
       "      <td>aresayingarecycleexpansioni.e</td>\n",
       "    </tr>\n",
       "    <tr>\n",
       "      <th>15</th>\n",
       "      <td>periodgrowthisdeceleratingfactortenddominate”q...</td>\n",
       "    </tr>\n",
       "    <tr>\n",
       "      <th>16</th>\n",
       "      <td>“remaingrowthmomentumexpansion.”momentumsoldli...</td>\n",
       "    </tr>\n",
       "    <tr>\n",
       "      <th>17</th>\n",
       "      <td>versionu.s.momentumreversedlossdayistradinghig...</td>\n",
       "    </tr>\n",
       "    <tr>\n",
       "      <th>18</th>\n",
       "      <td>factmomentumiscalmwadecemberu.s.stockwereposti...</td>\n",
       "    </tr>\n",
       "    <tr>\n",
       "      <th>19</th>\n",
       "      <td>realizedvolatilityhithighpuremomentumstrategyd...</td>\n",
       "    </tr>\n",
       "    <tr>\n",
       "      <th>20</th>\n",
       "      <td>investorhaveremainedsteadfast</td>\n",
       "    </tr>\n",
       "    <tr>\n",
       "      <th>21</th>\n",
       "      <td>hedgefundinstitutionmaintainedreliancegrowthmo...</td>\n",
       "    </tr>\n",
       "    <tr>\n",
       "      <th>22</th>\n",
       "      <td>lengthrallyequitymarkethaencouragedhedgefundcr...</td>\n",
       "    </tr>\n",
       "    <tr>\n",
       "      <th>23</th>\n",
       "      <td>continuedimprovementprospectrisinginflationexp...</td>\n",
       "    </tr>\n",
       "    <tr>\n",
       "      <th>24</th>\n",
       "      <td>under-exposurehedgefundvalueincreaseupsidevalu...</td>\n",
       "    </tr>\n",
       "  </tbody>\n",
       "</table>\n",
       "</div>"
      ],
      "text/plain": [
       "                                                    0\n",
       "0                      ’playbookfactormarketgohaywire\n",
       "1                          februaryisguiderulearedate\n",
       "2   selloffmomentumstockdefinedgaineryeartendleadw...\n",
       "3   factorlow-volatilitydividendpayerprovidepocket...\n",
       "4                                       hasnthappened\n",
       "5   factorshavebeenboutturbulencefearspiketreasury...\n",
       "6                      momentumstockhavecontinuedride\n",
       "7   valuestockhavecontinuedgetpummeledanalystpredi...\n",
       "8   performancehavecaughtquantssurprisesignalsomet...\n",
       "9                        factorsbehavegrowthbeginslow\n",
       "10  takevaluestockarepriceddiscountthingearningsasset\n",
       "11  tendoutperforminflationriseaccordingsanfordcbe...\n",
       "12  datahintingpricevaluehaextendedlosingstreakwee...\n",
       "13          ’stocklosesteambullmarketresearcherreason\n",
       "14                      aresayingarecycleexpansioni.e\n",
       "15  periodgrowthisdeceleratingfactortenddominate”q...\n",
       "16  “remaingrowthmomentumexpansion.”momentumsoldli...\n",
       "17  versionu.s.momentumreversedlossdayistradinghig...\n",
       "18  factmomentumiscalmwadecemberu.s.stockwereposti...\n",
       "19  realizedvolatilityhithighpuremomentumstrategyd...\n",
       "20                      investorhaveremainedsteadfast\n",
       "21  hedgefundinstitutionmaintainedreliancegrowthmo...\n",
       "22  lengthrallyequitymarkethaencouragedhedgefundcr...\n",
       "23  continuedimprovementprospectrisinginflationexp...\n",
       "24  under-exposurehedgefundvalueincreaseupsidevalu..."
      ]
     },
     "execution_count": 14,
     "metadata": {},
     "output_type": "execute_result"
    }
   ],
   "source": [
    "wordlist =pd.DataFrame()\n",
    "ssList=[]\n",
    "for t in blob2.sentences:\n",
    "    ww= []\n",
    "    for word,tag in t.tags:\n",
    "        if tag in ('NN','NNS','NNP','NNPS','VB','VBD','VBG','VBN','VBP','VBZ'):\n",
    "            ww.append(word.lemmatize())\n",
    "    ss=''.join(ww)\n",
    "    ssList.append(ss.lower())\n",
    "wordlist = wordlist.append(ssList,ignore_index=True)\n",
    "\n",
    "wordlist"
   ]
  },
  {
   "cell_type": "code",
   "execution_count": 15,
   "metadata": {},
   "outputs": [
    {
     "data": {
      "text/plain": [
       "25"
      ]
     },
     "execution_count": 15,
     "metadata": {},
     "output_type": "execute_result"
    }
   ],
   "source": [
    "len(blob2.sentences)"
   ]
  },
  {
   "cell_type": "code",
   "execution_count": 16,
   "metadata": {
    "collapsed": true
   },
   "outputs": [],
   "source": [
    "wordlist.to_csv('summary.csv')"
   ]
  },
  {
   "cell_type": "code",
   "execution_count": null,
   "metadata": {
    "collapsed": true
   },
   "outputs": [],
   "source": []
  }
 ],
 "metadata": {
  "kernelspec": {
   "display_name": "Python 3",
   "language": "python",
   "name": "python3"
  },
  "language_info": {
   "codemirror_mode": {
    "name": "ipython",
    "version": 3
   },
   "file_extension": ".py",
   "mimetype": "text/x-python",
   "name": "python",
   "nbconvert_exporter": "python",
   "pygments_lexer": "ipython3",
   "version": "3.6.1"
  }
 },
 "nbformat": 4,
 "nbformat_minor": 2
}
